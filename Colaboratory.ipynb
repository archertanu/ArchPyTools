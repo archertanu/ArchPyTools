{
  "cells": [
    {
      "cell_type": "code",
      "source": [],
      "metadata": {
        "id": "zh5J9B3d6fK0"
      },
      "execution_count": null,
      "outputs": []
    },
    {
      "cell_type": "code",
      "source": [
        "import time\n",
        "time.sleep(172800)"
      ],
      "metadata": {
        "id": "uRL8YHz_6gEs"
      },
      "execution_count": null,
      "outputs": []
    }
  ],
  "metadata": {
    "colab": {
      "name": "Colaboratory",
      "provenance": []
    },
    "kernelspec": {
      "display_name": "Python 3",
      "name": "python3"
    }
  },
  "nbformat": 4,
  "nbformat_minor": 0
}